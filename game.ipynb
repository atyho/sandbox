{
 "cells": [
  {
   "cell_type": "markdown",
   "id": "0e21fbd7",
   "metadata": {},
   "source": [
    "Load the required libraries"
   ]
  },
  {
   "cell_type": "code",
   "execution_count": 9,
   "id": "e699088c",
   "metadata": {},
   "outputs": [],
   "source": [
    "import random"
   ]
  },
  {
   "cell_type": "markdown",
   "id": "0df303d7",
   "metadata": {},
   "source": [
    "Test the random number generator from the random  library"
   ]
  },
  {
   "cell_type": "code",
   "execution_count": 10,
   "id": "9d1dd35e",
   "metadata": {},
   "outputs": [
    {
     "data": {
      "text/plain": [
       "0.07902839211470436"
      ]
     },
     "execution_count": 10,
     "metadata": {},
     "output_type": "execute_result"
    }
   ],
   "source": [
    "random.random()"
   ]
  },
  {
   "cell_type": "markdown",
   "id": "f7ce5864",
   "metadata": {},
   "source": [
    "We need the program to make a decision"
   ]
  },
  {
   "cell_type": "code",
   "execution_count": 11,
   "id": "bf655fc3",
   "metadata": {},
   "outputs": [],
   "source": [
    "NPC_randnum = random.random()"
   ]
  },
  {
   "cell_type": "markdown",
   "id": "151fff64",
   "metadata": {},
   "source": [
    "Transform the random number into a decision"
   ]
  },
  {
   "cell_type": "code",
   "execution_count": 12,
   "id": "b8748f5a",
   "metadata": {},
   "outputs": [],
   "source": [
    "if NPC_randnum < 0.34 : NPC_dec = \"rock\"\n",
    "elif NPC_randnum >= 0.34 and NPC_randnum < 0.66 : NPC_dec = \"paper\"\n",
    "else : NPC_dec = \"scissors\""
   ]
  },
  {
   "cell_type": "markdown",
   "id": "052e4360",
   "metadata": {},
   "source": [
    "Enter the player's decision"
   ]
  },
  {
   "cell_type": "code",
   "execution_count": null,
   "id": "31e10b3e",
   "metadata": {},
   "outputs": [],
   "source": [
    "player_num = int(input(\"Paper[1], Scissors[2], or Rock[3]?\"))\n",
    "\n",
    "# C1heck the player's decision\n",
    "while player_num not in {1, 2, 3} : \n",
    "    player_num = int(input(\"Invalid input. Try again: Paper[1], Scissors[2], or Rock[3]?\"))"
   ]
  },
  {
   "cell_type": "markdown",
   "id": "934b78db",
   "metadata": {},
   "source": [
    "Convert player's decision to paper, scissor, or rock"
   ]
  },
  {
   "cell_type": "code",
   "execution_count": 14,
   "id": "eb6e9d78",
   "metadata": {},
   "outputs": [],
   "source": [
    "if player_num == 1 : player_dec = 'paper'\n",
    "elif player_dec == 2 : player_dec = \"scissors\"\n",
    "else : player_dec = 'rock'"
   ]
  },
  {
   "cell_type": "markdown",
   "id": "04b30188",
   "metadata": {},
   "source": [
    "Print the decisions"
   ]
  },
  {
   "cell_type": "code",
   "execution_count": 15,
   "id": "8826669b",
   "metadata": {},
   "outputs": [
    {
     "name": "stdout",
     "output_type": "stream",
     "text": [
      "player's decision: paper\n",
      "NPC's decision: scissors\n"
     ]
    }
   ],
   "source": [
    "print(f\"player's decision: {player_dec}\")\n",
    "print(f\"NPC's decision: {NPC_dec}\")"
   ]
  },
  {
   "cell_type": "markdown",
   "id": "5b522c89",
   "metadata": {},
   "source": [
    "Decide who wins the game?"
   ]
  },
  {
   "cell_type": "code",
   "execution_count": null,
   "id": "e3f7467f",
   "metadata": {},
   "outputs": [],
   "source": []
  }
 ],
 "metadata": {
  "kernelspec": {
   "display_name": "base",
   "language": "python",
   "name": "python3"
  },
  "language_info": {
   "codemirror_mode": {
    "name": "ipython",
    "version": 3
   },
   "file_extension": ".py",
   "mimetype": "text/x-python",
   "name": "python",
   "nbconvert_exporter": "python",
   "pygments_lexer": "ipython3",
   "version": "3.11.7"
  }
 },
 "nbformat": 4,
 "nbformat_minor": 5
}
